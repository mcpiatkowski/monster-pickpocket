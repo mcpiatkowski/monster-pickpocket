{
 "cells": [
  {
   "cell_type": "code",
   "outputs": [],
   "source": [
    "import os"
   ],
   "metadata": {
    "collapsed": false,
    "ExecuteTime": {
     "end_time": "2024-04-22T17:28:06.894262Z",
     "start_time": "2024-04-22T17:28:06.888330Z"
    }
   },
   "id": "ddec705f77baeb99",
   "execution_count": 1
  },
  {
   "cell_type": "code",
   "outputs": [],
   "source": [
    "from dotenv import load_dotenv"
   ],
   "metadata": {
    "collapsed": false,
    "ExecuteTime": {
     "end_time": "2024-04-22T17:28:07.657219Z",
     "start_time": "2024-04-22T17:28:07.649245Z"
    }
   },
   "id": "1cc0473043dd463e",
   "execution_count": 2
  },
  {
   "cell_type": "code",
   "outputs": [],
   "source": [
    "load_dotenv()\n",
    "password = os.getenv(\"MONSTA_RAM\")"
   ],
   "metadata": {
    "collapsed": false,
    "ExecuteTime": {
     "end_time": "2024-04-22T17:28:08.906315Z",
     "start_time": "2024-04-22T17:28:08.902767Z"
    }
   },
   "id": "6728445b0af2c24f",
   "execution_count": 3
  },
  {
   "cell_type": "code",
   "execution_count": 4,
   "id": "initial_id",
   "metadata": {
    "collapsed": true,
    "ExecuteTime": {
     "end_time": "2024-04-22T17:28:11.002361Z",
     "start_time": "2024-04-22T17:28:10.638770Z"
    }
   },
   "outputs": [],
   "source": [
    "import numpy as np\n",
    "import pandas as pd"
   ]
  },
  {
   "cell_type": "code",
   "outputs": [],
   "source": [
    "ram = pd.read_parquet(\"data/2024-04-22/ram.parquet\")"
   ],
   "metadata": {
    "collapsed": false,
    "ExecuteTime": {
     "end_time": "2024-04-22T17:28:12.698720Z",
     "start_time": "2024-04-22T17:28:12.603427Z"
    }
   },
   "id": "4fa73230cbe490b2",
   "execution_count": 5
  },
  {
   "cell_type": "code",
   "outputs": [],
   "source": [
    "ram[\"multiplier\"] = ram[\"inactive\"].str.extract(r\"(\\d+)\").astype(int)\n",
    "\n",
    "conditions = [\n",
    "    ram[\"inactive\"].str.contains(\"days?\", regex=True),\n",
    "    ram[\"inactive\"].str.contains(\"months?\", regex=True),\n",
    "    ram[\"inactive\"].str.contains(\"years?\", regex=True),\n",
    "]\n",
    "\n",
    "values = [\n",
    "    (ram[\"multiplier\"] * pd.Timedelta(days=1)).astype(str),\n",
    "    (ram[\"multiplier\"] * pd.Timedelta(days=30)).astype(str),\n",
    "    (ram[\"multiplier\"] * pd.Timedelta(days=365)).astype(str),\n",
    "]\n",
    "\n",
    "ram[\"inactive_days\"] = pd.to_timedelta(np.select(conditions, values))"
   ],
   "metadata": {
    "collapsed": false,
    "ExecuteTime": {
     "end_time": "2024-04-22T17:28:15.380609Z",
     "start_time": "2024-04-22T17:28:15.233651Z"
    }
   },
   "id": "4c527afb77186d17",
   "execution_count": 6
  },
  {
   "cell_type": "code",
   "outputs": [
    {
     "data": {
      "text/plain": "        pxp            inactive  earnings  unclaimed_pxp    id  multiplier  \\\n376   25297         15 days ago      0.77             30   376          15   \n3561  25317  about 2 months ago      0.77             35  3561           2   \n1350  25226        3 months ago      0.71             30  1350           3   \n9242  18908       10 months ago      0.63             50  9242          10   \n551   22030   about 1 month ago      0.62             25   551           1   \n...     ...                 ...       ...            ...   ...         ...   \n7988      0    over 2 years ago      0.00             50  7988           2   \n6298      0    over 2 years ago      0.00             50  6298           2   \n8576      0    over 2 years ago      0.00             50  8576           2   \n9641      0    over 2 years ago      0.00             50  9641           2   \n3728    149    over 2 years ago      0.00             50  3728           2   \n\n     inactive_days  \n376        15 days  \n3561       60 days  \n1350       90 days  \n9242      300 days  \n551        30 days  \n...            ...  \n7988      730 days  \n6298      730 days  \n8576      730 days  \n9641      730 days  \n3728      730 days  \n\n[9580 rows x 7 columns]",
      "text/html": "<div>\n<style scoped>\n    .dataframe tbody tr th:only-of-type {\n        vertical-align: middle;\n    }\n\n    .dataframe tbody tr th {\n        vertical-align: top;\n    }\n\n    .dataframe thead th {\n        text-align: right;\n    }\n</style>\n<table border=\"1\" class=\"dataframe\">\n  <thead>\n    <tr style=\"text-align: right;\">\n      <th></th>\n      <th>pxp</th>\n      <th>inactive</th>\n      <th>earnings</th>\n      <th>unclaimed_pxp</th>\n      <th>id</th>\n      <th>multiplier</th>\n      <th>inactive_days</th>\n    </tr>\n  </thead>\n  <tbody>\n    <tr>\n      <th>376</th>\n      <td>25297</td>\n      <td>15 days ago</td>\n      <td>0.77</td>\n      <td>30</td>\n      <td>376</td>\n      <td>15</td>\n      <td>15 days</td>\n    </tr>\n    <tr>\n      <th>3561</th>\n      <td>25317</td>\n      <td>about 2 months ago</td>\n      <td>0.77</td>\n      <td>35</td>\n      <td>3561</td>\n      <td>2</td>\n      <td>60 days</td>\n    </tr>\n    <tr>\n      <th>1350</th>\n      <td>25226</td>\n      <td>3 months ago</td>\n      <td>0.71</td>\n      <td>30</td>\n      <td>1350</td>\n      <td>3</td>\n      <td>90 days</td>\n    </tr>\n    <tr>\n      <th>9242</th>\n      <td>18908</td>\n      <td>10 months ago</td>\n      <td>0.63</td>\n      <td>50</td>\n      <td>9242</td>\n      <td>10</td>\n      <td>300 days</td>\n    </tr>\n    <tr>\n      <th>551</th>\n      <td>22030</td>\n      <td>about 1 month ago</td>\n      <td>0.62</td>\n      <td>25</td>\n      <td>551</td>\n      <td>1</td>\n      <td>30 days</td>\n    </tr>\n    <tr>\n      <th>...</th>\n      <td>...</td>\n      <td>...</td>\n      <td>...</td>\n      <td>...</td>\n      <td>...</td>\n      <td>...</td>\n      <td>...</td>\n    </tr>\n    <tr>\n      <th>7988</th>\n      <td>0</td>\n      <td>over 2 years ago</td>\n      <td>0.00</td>\n      <td>50</td>\n      <td>7988</td>\n      <td>2</td>\n      <td>730 days</td>\n    </tr>\n    <tr>\n      <th>6298</th>\n      <td>0</td>\n      <td>over 2 years ago</td>\n      <td>0.00</td>\n      <td>50</td>\n      <td>6298</td>\n      <td>2</td>\n      <td>730 days</td>\n    </tr>\n    <tr>\n      <th>8576</th>\n      <td>0</td>\n      <td>over 2 years ago</td>\n      <td>0.00</td>\n      <td>50</td>\n      <td>8576</td>\n      <td>2</td>\n      <td>730 days</td>\n    </tr>\n    <tr>\n      <th>9641</th>\n      <td>0</td>\n      <td>over 2 years ago</td>\n      <td>0.00</td>\n      <td>50</td>\n      <td>9641</td>\n      <td>2</td>\n      <td>730 days</td>\n    </tr>\n    <tr>\n      <th>3728</th>\n      <td>149</td>\n      <td>over 2 years ago</td>\n      <td>0.00</td>\n      <td>50</td>\n      <td>3728</td>\n      <td>2</td>\n      <td>730 days</td>\n    </tr>\n  </tbody>\n</table>\n<p>9580 rows × 7 columns</p>\n</div>"
     },
     "execution_count": 7,
     "metadata": {},
     "output_type": "execute_result"
    }
   ],
   "source": [
    "ram[ram.inactive_days >= pd.Timedelta(days=10)].sort_values(by=\"earnings\", ascending=False)"
   ],
   "metadata": {
    "collapsed": false,
    "ExecuteTime": {
     "end_time": "2024-04-22T17:28:16.866980Z",
     "start_time": "2024-04-22T17:28:16.850062Z"
    }
   },
   "id": "e07b2aa20e5f3768",
   "execution_count": 7
  }
 ],
 "metadata": {
  "kernelspec": {
   "display_name": "Python 3",
   "language": "python",
   "name": "python3"
  },
  "language_info": {
   "codemirror_mode": {
    "name": "ipython",
    "version": 2
   },
   "file_extension": ".py",
   "mimetype": "text/x-python",
   "name": "python",
   "nbconvert_exporter": "python",
   "pygments_lexer": "ipython2",
   "version": "2.7.6"
  }
 },
 "nbformat": 4,
 "nbformat_minor": 5
}
